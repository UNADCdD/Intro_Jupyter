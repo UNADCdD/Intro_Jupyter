{
 "cells": [
  {
   "cell_type": "markdown",
   "metadata": {},
   "source": [
    "![Logo_unad](https://upload.wikimedia.org/wikipedia/commons/5/5f/Logo_unad.png)\n",
    "\n",
    "<font size=3 color=\"midnightblue\" face=\"arial\">\n",
    "<h1 align=\"center\">Escuela de Ciencias Básicas, Tecnología e Ingeniería</h1>\n",
    "</font>\n",
    "\n",
    "<font size=3 color=\"navy\" face=\"arial\">\n",
    "<h1 align=\"center\">ECBTI</h1>\n",
    "</font>\n",
    "\n",
    "<font size=2 color=\"darkorange\" face=\"arial\">\n",
    "<h1 align=\"center\">Curso: Métodos Numéricos</h1>\n",
    "</font>\n",
    "\n",
    "<font size=2 color=\"midnightblue\" face=\"arial\">\n",
    "<h1 align=\"center\">Introducción a Jupyter Notebook</h1>\n",
    "</font>\n",
    "\n",
    "<font size=1 color=\"darkorange\" face=\"arial\">\n",
    "<h1 align=\"center\">Febrero 28 de 2020</h1>\n",
    "</font>\n"
   ]
  },
  {
   "cell_type": "markdown",
   "metadata": {},
   "source": [
    "# *Jupyter Notebook* - Una breve introducción"
   ]
  },
  {
   "cell_type": "markdown",
   "metadata": {},
   "source": [
    "***Observación:*** Notas extraídas en parte del artículo \"[Jupyter Notebook Tutorial: The Definitive Guide](https://www.datacamp.com/community/tutorials/tutorial-jupyter-notebook?utm_source=adwords_ppc&utm_campaignid=1455363063&utm_adgroupid=65083631748&utm_device=c&utm_keyword=&utm_matchtype=b&utm_network=g&utm_adpostion=&utm_creative=278443377095&utm_targetid=aud-390929969673:dsa-473406581035&utm_loc_interest_ms=&utm_loc_physical_ms=1003654&gclid=CjwKCAiAy9jyBRA6EiwAeclQhNJHTXpBEwjc29NHdkk9OJmt1jMu3w5PTievQMb7_BnrEYpEGk3XvBoC1YYQAvD_BwE)\" de DataCamp, todo el crédito para ellos."
   ]
  },
  {
   "cell_type": "markdown",
   "metadata": {},
   "source": [
    "## Contenido\n",
    "\n",
    "- Introducción\n",
    "\n",
    "- Descarga e Instalación\n",
    "\n",
    "- Ejecución\n",
    "\n",
    "- Uso\n",
    "\n",
    "- Ejemplos de aplicación\n",
    "\n",
    "- Consejos"
   ]
  },
  {
   "cell_type": "markdown",
   "metadata": {},
   "source": [
    "## Introducción"
   ]
  },
  {
   "cell_type": "markdown",
   "metadata": {},
   "source": [
    "### Qué es un bloc de notas *Jupyter*?\n",
    "\n",
    "Un bloc de notas (notebook, en inglés) es un documento que contiene tanto código como elementos de texto enriquecido, tales como figuras, enlaces, ecuaciones, entre otros. Debido a esta capacidad de contener en un mismo entorno la mezcla de código y texto, es ámpliamente usado en el ámbito científico para realizar análisis descriptivo y sus resultados, así como la ejecución de código en algún lenguaje de programación en tiempo real.\n",
    "\n",
    "*Jupyter Notebook* no es el único que hace ésto, existen otras herramientas que poseen las mismas características como: [Wolfram Notebooks](https://www.wolfram.com/notebooks/ 'Wolfram Notebooks') (conocido como Mathematica), [Maple](https://www.maplesoft.com/ 'Maple'), [CoCalc](https://cocalc.com/index.html 'CoCalc'), [Zeppelin](https://zeppelin.apache.org/ 'Zeppelin'), entre los más usadas.\n",
    "\n",
    "*Jupyter* viene del acrónimo *Ju*lia,  *Pyt*hon y *R*, los primeros lenguajes que se implementaron en la plataforma, pero hoy en día [también soporta muchos otros lenguajes](https://github.com/jupyter/jupyter/wiki/Jupyter-kernels 'Jupyter kernels')."
   ]
  },
  {
   "cell_type": "markdown",
   "metadata": {},
   "source": [
    "### Qué es la aplicación *Jupyter notebook*?\n",
    "\n",
    "Por ser una aplicación *cliente  servidor*, el *Jupyter notebook* permite editar y ejecutar los bloc de notas via navegador de internet. La aplicación puede ser ejecutada en un PC sin acceso a internet, o puede ser instalada en un servidor remoto, que puede ser accedido a través de internet.\n",
    "\n",
    "Los dos principales componentes son los lenguajes de programación y el panel de la aplicación dondese crea el contenido, se edita, se cambia de kernel, entre otras operaciones de manejo."
   ]
  },
  {
   "cell_type": "markdown",
   "metadata": {},
   "source": [
    "### *IPython*  y su evolución: *Jupyter*\n",
    "\n",
    "El desarrollo de la aplicación en formato de notebook fue iniciada por [Fernando Pérez](http://blog.fperez.org/2012/01/ipython-notebook-historical.html 'Fernando Pérez'), en el 2001, con el nombre de [IPython](https://en.wikipedia.org/wiki/IPython 'IPython') (Interactive Python). Después de unos comienzos sin buenos resultados, en el 2007 se implemntó una aplicación portátil. En el 2010 apareció un prototipo de notebook en la web, y ya en el 2011, se consiguió estabilizar el sistema y empezó su lanzamiento con diferentes versiones. El equipo de desarrollo recibió vários premios en reconocmiento a su idea, obteniendo fondos para continuar su desarrollo y evolución.\n",
    "\n",
    "En el 2014 se dió inicio al proyecto [Jupyter](https://jupyter.org/ 'Jupyter') como una spin-off de *IPython*. *IPython* es ahora el nombre del backend (o kernel), y recientemente se ha introducido [JupyterLab](https://jupyterlab.readthedocs.io/en/stable/ 'JupyterLab') a la comunidad, como la nueva generación de la interfaz de usuario para el proyecto basado en la web.  "
   ]
  },
  {
   "cell_type": "markdown",
   "metadata": {},
   "source": [
    "## Descarga e instalación"
   ]
  },
  {
   "cell_type": "markdown",
   "metadata": {},
   "source": [
    "Existen varias formas de descargar y ejecutar la aplicación *Jupyter*, veremos las más comunes"
   ]
  },
  {
   "cell_type": "markdown",
   "metadata": {},
   "source": [
    "### Distribución Anaconda\n",
    "\n",
    "La forma más simple de obtener la aplicación es ingresando al site de la distribución [Anaconda](https://www.anaconda.com/distribution/) y realizar la descarga  para alguno de los tres sistemas operativos más comunes (Windows, Linux, macOS). Esta distribución se descarga con Python por defecto. Deberá seleccionarse entre las versiones 2.7 (más antigua, pero más estable y muchos códigos ya fueron desarrollados en esta versión) y la 3.7 (más moderna, casi actual, pero relativamente menos documentación)."
   ]
  },
  {
   "cell_type": "markdown",
   "metadata": {},
   "source": [
    "![Imagen](https://github.com/UNADCdD/Intro_Jupyter/blob/master/images/Anaconda01.PNG?raw=true \"\")"
   ]
  },
  {
   "cell_type": "markdown",
   "metadata": {},
   "source": [
    "La distribución *Anaconda* incluye no solo el *Jupyter Notebook* sino otros paquetes, entre los que se tiene el [IDE Spyder](https://www.spyder-ide.org/ 'Spyder'), la consola, entre otros. \n",
    "\n",
    "Para una información más detallada puede visitar la [documentación](https://jupyter.readthedocs.io/en/latest/install.html) en la página oficial."
   ]
  },
  {
   "cell_type": "markdown",
   "metadata": {},
   "source": [
    "## Ejecución del Jupyter"
   ]
  },
  {
   "cell_type": "markdown",
   "metadata": {},
   "source": [
    "Desde la consola que se crea al instalar el Anaconda (va a depender del S.O.), se ejecuta el comando:\n",
    "\n",
    "`jupyter notebook`"
   ]
  },
  {
   "cell_type": "markdown",
   "metadata": {},
   "source": [
    "![Imagen](https://github.com/UNADCdD/Intro_Jupyter/blob/master/images/Anaconda02.PNG?raw=true \"\")"
   ]
  },
  {
   "cell_type": "markdown",
   "metadata": {},
   "source": [
    "y se abrirá la aplicación en el navegador que se tiene implementado por defecto. Se puede modificar para que se ejecute en otro navegador de preferencia. Para ello, revisar la documentación más avanzada."
   ]
  },
  {
   "cell_type": "markdown",
   "metadata": {},
   "source": [
    "![Imagen](https://github.com/UNADCdD/Intro_Jupyter/blob/master/images/Jupyter01.PNG?raw=true \"\")"
   ]
  },
  {
   "cell_type": "markdown",
   "metadata": {},
   "source": [
    "Observe que el navegador abrió la aplicación en la dirección local:\n",
    "\n",
    "`http://localhost:8888`\n",
    "\n",
    "Esto quiere decir que está trabajando localmente, no está en internet."
   ]
  },
  {
   "cell_type": "markdown",
   "metadata": {},
   "source": [
    "Se observan también tres pestañas:\n",
    "\n",
    "- ***Files:*** En donde se encuentran sus archivos (como un explorador de archivos)\n",
    "\n",
    "\n",
    "- ***Running:*** Hace seguimiento a los procesos (notebooks) abiertos (en ejecución) en un instante determinado.\n",
    "\n",
    "\n",
    "- ***Clusters:*** Proporcionado por IPython parallel, el marco de cómputo paralelo de IPython. Le permite controlar muchos motores individuales, que son una versión extendida del núcleo IPython."
   ]
  },
  {
   "cell_type": "markdown",
   "metadata": {},
   "source": [
    "Para abrir un nuevo Notebook, vamos al menú `New` ubicado en la parte superior derecha, al lado `Upload`"
   ]
  },
  {
   "cell_type": "markdown",
   "metadata": {},
   "source": [
    "![Imagen](https://github.com/UNADCdD/Intro_Jupyter/blob/master/images/Jupyter02.PNG?raw=true \"\")"
   ]
  },
  {
   "cell_type": "markdown",
   "metadata": {},
   "source": [
    "Se despliega un menú contextual en donde aparecen los diferentes kernels instalados (por defecto se tiene únicamente el `Python 3`). También se pueden abrir otros archivos (de texto) o crear un folder o abrir otra terminal."
   ]
  },
  {
   "cell_type": "markdown",
   "metadata": {},
   "source": [
    "![Imagen](https://github.com/UNADCdD/Intro_Jupyter/blob/master/images/Jupyter03.PNG?raw=true \"\")"
   ]
  },
  {
   "cell_type": "markdown",
   "metadata": {},
   "source": [
    "En la imágen anterior podemos describir 6 elementos:\n",
    "\n",
    "***1. Nombre del Notebook:*** Para cambiarlo basta con dar un click encima de `Untitled` y escribir el nombre deseado.\n",
    "\n",
    "\n",
    "***2. Barra de Menú:***\n",
    "\n",
    "\n",
    "***3. Barra de herramientas:***\n",
    "\n",
    "\n",
    "***4. ícono del kernel actualmente en uso:*** en este caso es Python, pero cambiará al momento de emplear otro kernel (R, Julia, Java, etc...)\n",
    "\n",
    "\n",
    "***5. Nombre del kernel en uso:*** si no se está ejecutando ningún proceso, el círculo se ve vacío, de lo contrario, se ve lleno (en negro)\n",
    "\n",
    "***6. Celda de escritura:*** sobre cada celda se escribirá o el código, o el texto, o la imágen, entre otros. Cada celda puede tener las siguientes propiedades:"
   ]
  },
  {
   "cell_type": "markdown",
   "metadata": {},
   "source": [
    "![Imagen](https://github.com/UNADCdD/Intro_Jupyter/blob/master/images/Jupyter03.PNG?raw=true \"\")"
   ]
  },
  {
   "attachments": {
    "Jupyter04.png": {
     "image/png": "[encoded data removed]"
    }
   },
   "cell_type": "markdown",
   "metadata": {},
   "source": [
    "![Jupyter04.png](attachment:Jupyter04.png)"
   ]
  },
  {
   "cell_type": "markdown",
   "metadata": {},
   "source": [
    "- ***Code:*** Para editar código en el lenguaje de programación indicado\n",
    "\n",
    "\n",
    "- ***Markdown:*** Para crear texto en [lenguaje de marcado ligero](https://es.wikipedia.org/wiki/Markdown 'Markdown'). Puede incluir salidas en `HTML` y `LaTeX` (como editor de ecuaciones matemáticas).\n",
    "\n",
    "\n",
    "- ***Raw NBconvert:*** El tipo de celda `Raw NBConvert` se puede utilizar para representar diferentes formatos de código en `HTML` o `LaTeX` por [`Sphinx`](https://nbsphinx.readthedocs.io/en/0.3.1/raw-cells.html). Esta información se almacena en los metadatos del cuaderno y se convierten adecuadamente en el formato de salida.\n",
    "\n",
    "\n",
    "- ***Heading:*** Era una característica empleada para generar encabezados, pero ya está en deshuso. Se explicarán encabezados más adelante."
   ]
  },
  {
   "cell_type": "code",
   "execution_count": null,
   "metadata": {},
   "outputs": [],
   "source": []
  }
 ],
 "metadata": {
  "kernelspec": {
   "display_name": "Python 3",
   "language": "python",
   "name": "python3"
  },
  "language_info": {
   "codemirror_mode": {
    "name": "ipython",
    "version": 3
   },
   "file_extension": ".py",
   "mimetype": "text/x-python",
   "name": "python",
   "nbconvert_exporter": "python",
   "pygments_lexer": "ipython3",
   "version": "3.7.1"
  }
 },
 "nbformat": 4,
 "nbformat_minor": 2
}
