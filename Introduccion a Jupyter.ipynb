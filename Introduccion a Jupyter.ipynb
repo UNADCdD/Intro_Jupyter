{
 "cells": [
  {
   "cell_type": "markdown",
   "metadata": {},
   "source": [
    "# Jupyter Notebook"
   ]
  },
  {
   "cell_type": "markdown",
   "metadata": {},
   "source": [
    "## Contenido\n",
    "\n",
    "- Introducción\n",
    "\n",
    "- Descarga e Instalación\n",
    "\n",
    "- Ejecución\n",
    "\n",
    "- Uso\n",
    "\n",
    "- Ejemplos de aplicación\n",
    "\n",
    "- Consejos"
   ]
  },
  {
   "cell_type": "markdown",
   "metadata": {},
   "source": [
    "## Introducción\n",
    "\n",
    "### Qué es un bloc de notas Jupyter?\n",
    "\n",
    "Un bloc de notas (notebook, en inglés) es un documento que contiene tanto código como elementos de texto enriquecido, tales como figuras, enlaces, ecuaciones, entre otros. Debido a esta capacidad de contener en un mismo entorno la mezcla de código y texto, es ámpliamente usado en el ámbito científico para realizar análisis descriptivo y sus resultados, así como la ejecución de código en algún lenguaje de programación en tiempo real.\n",
    "\n",
    "Jupyter Notebook no es el único que hace ésto, existen otras herramientas que poseen las mismas características como: [Wolfram Notebooks](https://www.wolfram.com/notebooks/ 'Wolfram Notebooks') (conocido como Mathematica), [Maple](https://www.maplesoft.com/ 'Maple'), [CoCalc](https://cocalc.com/index.html 'CoCalc'), [Zeppelin](https://zeppelin.apache.org/ 'Zeppelin'), entre los más usadas."
   ]
  },
  {
   "cell_type": "code",
   "execution_count": null,
   "metadata": {},
   "outputs": [],
   "source": []
  }
 ],
 "metadata": {
  "kernelspec": {
   "display_name": "Python 3",
   "language": "python",
   "name": "python3"
  },
  "language_info": {
   "codemirror_mode": {
    "name": "ipython",
    "version": 3
   },
   "file_extension": ".py",
   "mimetype": "text/x-python",
   "name": "python",
   "nbconvert_exporter": "python",
   "pygments_lexer": "ipython3",
   "version": "3.6.8"
  }
 },
 "nbformat": 4,
 "nbformat_minor": 2
}
