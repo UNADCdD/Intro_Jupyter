{
 "cells": [
  {
   "cell_type": "markdown",
   "metadata": {},
   "source": [
    "![Logo_unad](https://upload.wikimedia.org/wikipedia/commons/5/5f/Logo_unad.png)\n",
    "\n",
    "<font size=3 color=\"midnightblue\" face=\"arial\">\n",
    "<h1 align=\"center\">Escuela de Ciencias Básicas, Tecnología e Ingeniería</h1>\n",
    "</font>\n",
    "\n",
    "<font size=3 color=\"navy\" face=\"arial\">\n",
    "<h1 align=\"center\">ECBTI</h1>\n",
    "</font>\n",
    "\n",
    "<font size=2 color=\"darkorange\" face=\"arial\">\n",
    "<h1 align=\"center\">Curso: Métodos Numéricos</h1>\n",
    "</font>\n",
    "\n",
    "<font size=2 color=\"midnightblue\" face=\"arial\">\n",
    "<h1 align=\"center\">Introducción a Jupyter Notebook</h1>\n",
    "</font>\n",
    "\n",
    "<font size=1 color=\"darkorange\" face=\"arial\">\n",
    "<h1 align=\"center\">Agosto de 2020</h1>\n",
    "</font>\n"
   ]
  },
  {
   "cell_type": "markdown",
   "metadata": {},
   "source": [
    "# *Jupyter Notebook* - Una breve introducción"
   ]
  },
  {
   "cell_type": "markdown",
   "metadata": {},
   "source": [
    "***Observación:*** Notas extraídas en parte del artículo \"[Jupyter Notebook Tutorial: The Definitive Guide](https://www.datacamp.com/community/tutorials/tutorial-jupyter-notebook?utm_source=adwords_ppc&utm_campaignid=1455363063&utm_adgroupid=65083631748&utm_device=c&utm_keyword=&utm_matchtype=b&utm_network=g&utm_adpostion=&utm_creative=278443377095&utm_targetid=aud-390929969673:dsa-473406581035&utm_loc_interest_ms=&utm_loc_physical_ms=1003654&gclid=CjwKCAiAy9jyBRA6EiwAeclQhNJHTXpBEwjc29NHdkk9OJmt1jMu3w5PTievQMb7_BnrEYpEGk3XvBoC1YYQAvD_BwE)\" de DataCamp, todo el crédito para ellos."
   ]
  },
  {
   "cell_type": "markdown",
   "metadata": {
    "toc": true
   },
   "source": [
    "<h1>Tabla de Contenidos<span class=\"tocSkip\"></span></h1>\n",
    "<div class=\"toc\"><ul class=\"toc-item\"><li><span><a href=\"#Contenido\" data-toc-modified-id=\"Contenido-1\"><span class=\"toc-item-num\">1&nbsp;&nbsp;</span>Contenido</a></span></li><li><span><a href=\"#Introducción\" data-toc-modified-id=\"Introducción-2\"><span class=\"toc-item-num\">2&nbsp;&nbsp;</span>Introducción</a></span><ul class=\"toc-item\"><li><span><a href=\"#Qué-es-un-bloc-de-notas-Jupyter?\" data-toc-modified-id=\"Qué-es-un-bloc-de-notas-Jupyter?-2.1\"><span class=\"toc-item-num\">2.1&nbsp;&nbsp;</span>Qué es un bloc de notas <em>Jupyter</em>?</a></span></li><li><span><a href=\"#Qué-es-el-Jupyter-notebook?\" data-toc-modified-id=\"Qué-es-el-Jupyter-notebook?-2.2\"><span class=\"toc-item-num\">2.2&nbsp;&nbsp;</span>Qué es el <em>Jupyter notebook</em>?</a></span></li><li><span><a href=\"#IPython--y-su-evolución:-Jupyter\" data-toc-modified-id=\"IPython--y-su-evolución:-Jupyter-2.3\"><span class=\"toc-item-num\">2.3&nbsp;&nbsp;</span><em>IPython</em>  y su evolución: <em>Jupyter</em></a></span></li></ul></li><li><span><a href=\"#Descarga,-instalación-y-ejecución\" data-toc-modified-id=\"Descarga,-instalación-y-ejecución-3\"><span class=\"toc-item-num\">3&nbsp;&nbsp;</span>Descarga, instalación y ejecución</a></span><ul class=\"toc-item\"><li><span><a href=\"#Descarga-de-la-Distribución-Anaconda\" data-toc-modified-id=\"Descarga-de-la-Distribución-Anaconda-3.1\"><span class=\"toc-item-num\">3.1&nbsp;&nbsp;</span>Descarga de la Distribución Anaconda</a></span></li><li><span><a href=\"#Instalación\" data-toc-modified-id=\"Instalación-3.2\"><span class=\"toc-item-num\">3.2&nbsp;&nbsp;</span>Instalación</a></span></li><li><span><a href=\"#Ejecución\" data-toc-modified-id=\"Ejecución-3.3\"><span class=\"toc-item-num\">3.3&nbsp;&nbsp;</span>Ejecución</a></span></li></ul></li><li><span><a href=\"#Entorno-de-trabajo-del-Jupyter-Notebook\" data-toc-modified-id=\"Entorno-de-trabajo-del-Jupyter-Notebook-4\"><span class=\"toc-item-num\">4&nbsp;&nbsp;</span>Entorno de trabajo del Jupyter Notebook</a></span></li></ul></div>"
   ]
  },
  {
   "cell_type": "markdown",
   "metadata": {
    "heading_collapsed": true
   },
   "source": [
    "## Contenido"
   ]
  },
  {
   "cell_type": "markdown",
   "metadata": {
    "hidden": true
   },
   "source": [
    "- Introducción\n",
    "\n",
    "- Descarga e Instalación\n",
    "\n",
    "- Ejecución\n",
    "\n",
    "- Uso\n",
    "\n",
    "- Ejemplos de aplicación\n",
    "\n",
    "- Consejos"
   ]
  },
  {
   "cell_type": "markdown",
   "metadata": {
    "heading_collapsed": true
   },
   "source": [
    "## Introducción"
   ]
  },
  {
   "cell_type": "markdown",
   "metadata": {
    "heading_collapsed": true,
    "hidden": true
   },
   "source": [
    "### Qué es un bloc de notas *Jupyter*?"
   ]
  },
  {
   "cell_type": "markdown",
   "metadata": {
    "hidden": true
   },
   "source": [
    "Un bloc de notas (notebook, en inglés) es un documento que contiene tanto código como elementos de texto enriquecido, tales como figuras, enlaces, ecuaciones, entre otros. Debido a esta capacidad de contener en un mismo entorno la mezcla de código y texto, es ámpliamente usado en el ámbito científico para realizar análisis descriptivo y sus resultados, así como la ejecución de código en algún lenguaje de programación en tiempo real.\n",
    "\n",
    "*Jupyter Notebook* no es el único que hace ésto, existen otras herramientas que poseen las mismas características como: [Wolfram Notebooks](https://www.wolfram.com/notebooks/ 'Wolfram Notebooks') (conocido como Mathematica), [Maple](https://www.maplesoft.com/ 'Maple'), [CoCalc](https://cocalc.com/index.html 'CoCalc'), [Zeppelin](https://zeppelin.apache.org/ 'Zeppelin'), entre los más usadas.\n",
    "\n",
    "*Jupyter* viene del acrónimo *Ju*lia,  *Pyt*hon y *R*, los primeros lenguajes que se implementaron en la plataforma, pero hoy en día [también soporta muchos otros lenguajes](https://github.com/jupyter/jupyter/wiki/Jupyter-kernels 'Jupyter kernels')."
   ]
  },
  {
   "cell_type": "markdown",
   "metadata": {
    "heading_collapsed": true,
    "hidden": true
   },
   "source": [
    "### Qué es el *Jupyter notebook*?"
   ]
  },
  {
   "cell_type": "markdown",
   "metadata": {
    "hidden": true
   },
   "source": [
    "Por ser una aplicación *cliente  servidor*, el *Jupyter notebook* permite editar y ejecutar los bloc de notas via navegador de internet. La aplicación puede ser ejecutada en un PC sin acceso a internet, o puede ser instalada en un servidor remoto, que puede ser accedido a través de internet.\n",
    "\n",
    "Los dos principales componentes son los lenguajes de programación y el panel de la aplicación dondese crea el contenido, se edita, se cambia de kernel, entre otras operaciones de manejo."
   ]
  },
  {
   "cell_type": "markdown",
   "metadata": {
    "heading_collapsed": true,
    "hidden": true
   },
   "source": [
    "### *IPython*  y su evolución: *Jupyter*"
   ]
  },
  {
   "cell_type": "markdown",
   "metadata": {
    "hidden": true
   },
   "source": [
    "El desarrollo de la aplicación en formato de notebook fue iniciada por [Fernando Pérez](http://blog.fperez.org/2012/01/ipython-notebook-historical.html 'Fernando Pérez'), en el 2001, con el nombre de [IPython](https://en.wikipedia.org/wiki/IPython 'IPython') (Interactive Python). Después de unos comienzos sin buenos resultados, en el 2007 se implemntó una aplicación portátil. En el 2010 apareció un prototipo de notebook en la web, y ya en el 2011, se consiguió estabilizar el sistema y empezó su lanzamiento con diferentes versiones. El equipo de desarrollo recibió vários premios en reconocmiento a su idea, obteniendo fondos para continuar su desarrollo y evolución.\n",
    "\n",
    "En el 2014 se dió inicio al proyecto [Jupyter](https://jupyter.org/ 'Jupyter') como una spin-off de *IPython*. *IPython* es ahora el nombre del backend (o kernel), y recientemente se ha introducido [JupyterLab](https://jupyterlab.readthedocs.io/en/stable/ 'JupyterLab') a la comunidad, como la nueva generación de la interfaz de usuario para el proyecto basado en la web.  "
   ]
  },
  {
   "cell_type": "markdown",
   "metadata": {},
   "source": [
    "## Descarga, instalación y ejecución"
   ]
  },
  {
   "cell_type": "markdown",
   "metadata": {},
   "source": [
    "Existen varias formas de descargar y ejecutar la aplicación *Jupyter*, veremos la más común que es a través de la distribución [Anaconda](https://www.anaconda.com/distribution/)"
   ]
  },
  {
   "cell_type": "markdown",
   "metadata": {},
   "source": [
    "### Descarga de la Distribución Anaconda"
   ]
  },
  {
   "cell_type": "markdown",
   "metadata": {},
   "source": [
    "La forma más simple de obtener la aplicación es ingresando al site de la distribución [Anaconda](https://www.anaconda.com/distribution/)"
   ]
  },
  {
   "cell_type": "markdown",
   "metadata": {},
   "source": [
    "<p float=\"center\">\n",
    "  <img src=https://raw.githubusercontent.com/UNADCdD/Intro_Jupyter/master/images/Anaconda01.PNG?raw=true width=\"500\" />\n",
    "</p>"
   ]
  },
  {
   "cell_type": "markdown",
   "metadata": {},
   "source": [
    "y realizar la descarga  del ejecutable para alguno de los tres sistemas operativos más comunes (Windows, Linux, macOS). Esta distribución se descarga con el kernel del lenguajde de programación Python por defecto.\n",
    "\n",
    "La ruta de descarga es la siguiente: \n",
    "\n",
    "`Anaconda --> Products --> Individual Edition --> Download`\n",
    "\n",
    "como se muestra en la figura:"
   ]
  },
  {
   "cell_type": "markdown",
   "metadata": {},
   "source": [
    "<p float=\"center\">\n",
    "  <img src=https://raw.githubusercontent.com/UNADCdD/Intro_Jupyter/master/images/Anaconda02.png?raw=true width=\"500\" />\n",
    "</p>"
   ]
  },
  {
   "cell_type": "markdown",
   "metadata": {},
   "source": [
    "La distribución Anaconda ofrece las versiones de los instaladores para los sistemas operativos Windows, MacOS y Linux."
   ]
  },
  {
   "cell_type": "markdown",
   "metadata": {},
   "source": [
    "<p float=\"center\">\n",
    "  <img src=https://raw.githubusercontent.com/UNADCdD/Intro_Jupyter/master/images/Anaconda03.PNG?raw=true width=\"500\" />\n",
    "</p>"
   ]
  },
  {
   "cell_type": "markdown",
   "metadata": {},
   "source": [
    "### Instalación"
   ]
  },
  {
   "cell_type": "markdown",
   "metadata": {},
   "source": [
    "Dentro del archivo de instalación, la distribución *Anaconda* incluye no solo el *Jupyter Notebook* sino otras aplicaciones, entre las que se tiene el [IDE Spyder](https://www.spyder-ide.org/ 'Spyder'), la consola, entre otros.\n",
    "\n",
    "La instalación dependerá del Sistema Operativo sobre el que se realizará y se dejará al usuario  su realización. Para una información más detallada puede visitar la [documentación](https://jupyter.readthedocs.io/en/latest/install.html) en la página oficial (en inglés)."
   ]
  },
  {
   "cell_type": "markdown",
   "metadata": {},
   "source": [
    "### Ejecución"
   ]
  },
  {
   "cell_type": "markdown",
   "metadata": {},
   "source": [
    "La ejecución de la aplicación Jupyter se puede realizar de dos formas principalmente. Como ejemplo veremos el procedimiento en Windows. \n",
    "\n",
    "- ***Opción 1:*** Desde el menú de inicio del Windows, se va a una carpeta creada en la instalación de nombre `Anaconda3 (64-bit)` y dentro de ésta, ir al ícono del Jupyter para el lanzamiento en forma individual (stand alone), como se muestra en la imágen"
   ]
  },
  {
   "cell_type": "markdown",
   "metadata": {},
   "source": [
    "<p float=\"center\">\n",
    "  <img src=https://raw.githubusercontent.com/UNADCdD/Intro_Jupyter/master/images/Anaconda04.png?raw=true width=\"250\" />\n",
    "</p>"
   ]
  },
  {
   "cell_type": "markdown",
   "metadata": {},
   "source": [
    "- ***Opción 2:*** La otra opción es abrir la consola de comandos (válido en Linux y MacOS también) y ejecutar el comando:\n",
    "\n",
    "`jupyter notebook`"
   ]
  },
  {
   "cell_type": "markdown",
   "metadata": {},
   "source": [
    "![Imagen](https://github.com/UNADCdD/Intro_Jupyter/blob/master/images/Anaconda02.PNG?raw=true \"\")"
   ]
  },
  {
   "cell_type": "markdown",
   "metadata": {},
   "source": [
    "y se abrirá la aplicación en el navegador que se tiene implementado por defecto. Se puede modificar para que se ejecute en otro navegador de preferencia, para ello, revisar la documentación más avanzada.\n",
    "\n",
    "Debe tener presente que no se puede abrir el Jupyter dando doble click en algún archivo de extensión `ipynb`, como se hace normalmente en otro tipo de archivos. Debe primero abrir la aplicación y desde ahí abrir el archivo, como se presenta más adelante."
   ]
  },
  {
   "cell_type": "markdown",
   "metadata": {},
   "source": [
    "## Entorno de trabajo del Jupyter Notebook"
   ]
  },
  {
   "cell_type": "markdown",
   "metadata": {},
   "source": [
    "Una vez se ejecuta la aplicación por alguna de las dos formas vistas, se abre el Jupyter sobre un navegador web mostrando el siguiente entorno:"
   ]
  },
  {
   "cell_type": "markdown",
   "metadata": {},
   "source": [
    "![Imagen](https://github.com/UNADCdD/Intro_Jupyter/blob/master/images/Jupyter01.PNG?raw=true \"\")"
   ]
  },
  {
   "cell_type": "markdown",
   "metadata": {},
   "source": [
    "Observe que el navegador abrió la aplicación en la dirección local:\n",
    "\n",
    "`http://localhost:8888`\n",
    "\n",
    "Esto quiere decir que está trabajando localmente, no está en internet."
   ]
  },
  {
   "cell_type": "markdown",
   "metadata": {},
   "source": [
    "Se observan también tres pestañas:\n",
    "\n",
    "- ***Files:*** En donde se encuentran sus archivos (como un explorador de archivos)\n",
    "\n",
    "\n",
    "- ***Running:*** Hace seguimiento a los procesos (notebooks) abiertos (en ejecución) en un instante determinado.\n",
    "\n",
    "\n",
    "- ***Clusters:*** Proporcionado por IPython parallel, el marco de cómputo paralelo de IPython. Le permite controlar muchos motores individuales, que son una versión extendida del núcleo IPython."
   ]
  },
  {
   "cell_type": "markdown",
   "metadata": {},
   "source": [
    "Para abrir un nuevo Notebook, vamos al menú `New` ubicado en la parte superior derecha, al lado `Upload`"
   ]
  },
  {
   "cell_type": "markdown",
   "metadata": {},
   "source": [
    "![Imagen](https://github.com/UNADCdD/Intro_Jupyter/blob/master/images/Jupyter02.PNG?raw=true \"\")"
   ]
  },
  {
   "cell_type": "markdown",
   "metadata": {},
   "source": [
    "Se despliega un menú contextual en donde aparecen los diferentes kernels instalados (por defecto se tiene únicamente el `Python 3`). También se pueden abrir otros archivos (de texto) o crear un folder o abrir otra terminal."
   ]
  },
  {
   "cell_type": "markdown",
   "metadata": {},
   "source": [
    "![Imagen](https://github.com/UNADCdD/Intro_Jupyter/blob/master/images/Jupyter03.PNG?raw=true \"\")"
   ]
  },
  {
   "cell_type": "markdown",
   "metadata": {},
   "source": [
    "En la imágen anterior podemos describir 6 elementos:\n",
    "\n",
    "***1. Nombre del Notebook:*** Para cambiarlo basta con dar un click encima de `Untitled` y escribir el nombre deseado.\n",
    "\n",
    "\n",
    "***2. Barra de Menú:***\n",
    "\n",
    "\n",
    "***3. Barra de herramientas:***\n",
    "\n",
    "\n",
    "***4. ícono del kernel actualmente en uso:*** en este caso es Python, pero cambiará al momento de emplear otro kernel (R, Julia, Java, etc...)\n",
    "\n",
    "\n",
    "***5. Nombre del kernel en uso:*** si no se está ejecutando ningún proceso, el círculo se ve vacío, de lo contrario, se ve lleno (en negro)\n",
    "\n",
    "***6. Celda de escritura:*** sobre cada celda se escribirá o el código, o el texto, o la imágen, entre otros. Cada celda puede tener las siguientes propiedades:"
   ]
  },
  {
   "cell_type": "markdown",
   "metadata": {},
   "source": [
    "![Imagen](https://github.com/UNADCdD/Intro_Jupyter/blob/master/images/Jupyter04.png?raw=true \"\")"
   ]
  },
  {
   "cell_type": "markdown",
   "metadata": {},
   "source": [
    "- ***Code:*** Para editar código en el lenguaje de programación indicado\n",
    "\n",
    "\n",
    "- ***Markdown:*** Para crear texto en [lenguaje de marcado ligero](https://es.wikipedia.org/wiki/Markdown 'Markdown'). Puede incluir salidas en [`HTML`](https://es.wikipedia.org/wiki/HTML 'HTML') y $\\LaTeX$(https://es.wikipedia.org/wiki/LaTeX) como editor de ecuaciones matemáticas.\n",
    "\n",
    "\n",
    "- ***Raw NBconvert:*** El tipo de celda `Raw NBConvert` se puede utilizar para representar diferentes formatos de código en `HTML` o $\\LaTeX$ por [`Sphinx`](https://nbsphinx.readthedocs.io/en/0.3.1/raw-cells.html). Esta información se almacena en los metadatos del cuaderno y se convierten adecuadamente en el formato de salida.\n",
    "\n",
    "\n",
    "- ***Heading:*** Era una característica empleada para generar encabezados, pero ya está en deshuso. Se explicarán encabezados más adelante."
   ]
  },
  {
   "cell_type": "markdown",
   "metadata": {},
   "source": [
    "Hasta aquí se ha descrito de una manera rápida el proceso de búsqueda, descarga, instalación y ejecución de la herramienta Jupyter Notebook. En los siguientes cuadernos se presentarán su uso básico, algunas herramientas de interés y su ejecución en la nuebe a través de Google Colab. Los invitamos a seguir revisando los otros documentos."
   ]
  },
  {
   "cell_type": "markdown",
   "metadata": {},
   "source": [
    "![ChessUrl](https://upload.wikimedia.org/wikipedia/commons/7/71/ChessPawnSpecialMoves.gif \"chess\")"
   ]
  },
  {
   "cell_type": "markdown",
   "metadata": {},
   "source": [
    "$$z = \\sqrt{x^2+y^2}$$"
   ]
  },
  {
   "cell_type": "markdown",
   "metadata": {},
   "source": [
    "<p float=\"center\">\n",
    "  <img src=https://media.giphy.com/media/iGGQYeTaXACOYJdUt9/giphy.gif width=\"750\" />\n",
    "</p>"
   ]
  },
  {
   "cell_type": "code",
   "execution_count": null,
   "metadata": {},
   "outputs": [],
   "source": []
  }
 ],
 "metadata": {
  "kernelspec": {
   "display_name": "Python 3",
   "language": "python",
   "name": "python3"
  },
  "language_info": {
   "codemirror_mode": {
    "name": "ipython",
    "version": 3
   },
   "file_extension": ".py",
   "mimetype": "text/x-python",
   "name": "python",
   "nbconvert_exporter": "python",
   "pygments_lexer": "ipython3",
   "version": "3.6.10"
  },
  "toc": {
   "base_numbering": 1,
   "nav_menu": {},
   "number_sections": true,
   "sideBar": true,
   "skip_h1_title": true,
   "title_cell": "Tabla de Contenidos",
   "title_sidebar": "Contenidos",
   "toc_cell": true,
   "toc_position": {
    "height": "calc(100% - 180px)",
    "left": "10px",
    "top": "150px",
    "width": "230.4px"
   },
   "toc_section_display": true,
   "toc_window_display": true
  }
 },
 "nbformat": 4,
 "nbformat_minor": 2
}
